{
 "cells": [
  {
   "cell_type": "markdown",
   "id": "06d88669",
   "metadata": {},
   "source": [
    "# 🚀 MLOps Deployment Lab Report"
   ]
  },
  {
   "cell_type": "markdown",
   "id": "ae58123d",
   "metadata": {},
   "source": [
    "**👤 Name:** Yasser  \n",
    "**📅 Date:** 7 April 2025  \n",
    "**🔧 Project:** From Production to Development - A Solo DevOps Journey"
   ]
  },
  {
   "cell_type": "markdown",
   "id": "804e8b06",
   "metadata": {},
   "source": [
    "## 🏗️ Phase 1: Project Setup – *Crafting the Foundation*"
   ]
  },
  {
   "cell_type": "markdown",
   "id": "f7f32aa7",
   "metadata": {},
   "source": [
    "\n",
    "As a solo developer, I embarked on setting up my own MLOps workflow from scratch. This phase was all about laying the groundwork:\n",
    "\n",
    "- ✅ Created a new GitHub repository for the project  \n",
    "- 📁 Created a local folder called `yasser-mlops-repo`  \n",
    "- 🌱 Set up and activated a Python virtual environment:\n",
    "\n",
    "```bash\n",
    "python -m venv venv\n",
    "source venv/bin/activate  # For Windows: venv\\Scripts\\activate\n",
    "```\n",
    "\n",
    "- 🧪 Added initial code from `02. Virtual Envs.ipynb` for testing  \n",
    "- 🗂️ Created the essential project files:\n",
    "  - `README.md`\n",
    "  - `requirements.txt`\n",
    "  - `.gitignore`\n",
    "\n",
    "- 📦 Installed and tracked initial dependencies:\n",
    "\n",
    "```bash\n",
    "pip install bs4 requests\n",
    "pip freeze > requirements.txt\n",
    "```\n"
   ]
  },
  {
   "cell_type": "markdown",
   "id": "319c2d94",
   "metadata": {},
   "source": [
    "## 🛠️ Phase 2: Git & GitHub – *Version Control with Style*"
   ]
  },
  {
   "cell_type": "markdown",
   "id": "f630e046",
   "metadata": {},
   "source": [
    "\n",
    "- 🔧 Initialized Git locally:\n",
    "\n",
    "```bash\n",
    "git init\n",
    "```\n",
    "\n",
    "- 📌 Tracked and committed the project:\n",
    "\n",
    "```bash\n",
    "git add .\n",
    "git commit -m \"Initial commit with virtual env setup\"\n",
    "```\n",
    "\n",
    "- 🌐 Connected to GitHub and pushed to a new branch:\n",
    "\n",
    "```bash\n",
    "git remote add origin <your-github-repo-url>\n",
    "git checkout -b dev\n",
    "git push -u origin dev\n",
    "```\n",
    "\n",
    "- 🎯 Created a Pull Request to simulate a professional workflow—even solo, I reviewed the structure and logic before merging to `main`.\n"
   ]
  },
  {
   "cell_type": "markdown",
   "id": "025d019e",
   "metadata": {},
   "source": [
    "## 🔁 Phase 3: Test & Validate – *Walk in Fresh Shoes*"
   ]
  },
  {
   "cell_type": "markdown",
   "id": "d118c0ce",
   "metadata": {},
   "source": [
    "\n",
    "- 🧲 Cloned the repo:\n",
    "\n",
    "```bash\n",
    "git clone <your-github-repo-url>\n",
    "cd yasser-mlops-repo\n",
    "```\n",
    "\n",
    "- 🌱 Set up a fresh virtual environment:\n",
    "\n",
    "```bash\n",
    "python -m venv venv\n",
    "source venv/bin/activate\n",
    "```\n",
    "\n",
    "- 📦 Installed dependencies:\n",
    "\n",
    "```bash\n",
    "pip install -r requirements.txt\n",
    "```\n",
    "\n",
    "- 🚀 Ran the script and confirmed successful execution:\n",
    "\n",
    "```bash\n",
    "python your_script.py\n",
    "```\n"
   ]
  },
  {
   "cell_type": "markdown",
   "id": "e1fbfb0e",
   "metadata": {},
   "source": [
    "## 🧠 Reflections – *One-Man DevOps Show*"
   ]
  },
  {
   "cell_type": "markdown",
   "id": "ad305605",
   "metadata": {},
   "source": [
    "\n",
    "### ⚔️ Challenges Faced:\n",
    "- Making sure `.gitignore` properly excluded the `venv` folder.\n",
    "- Double-checking that `requirements.txt` was complete and accurate.\n",
    "- Simulating collaboration while working solo.\n",
    "\n",
    "### 💡 Solutions:\n",
    "- Verified `.gitignore` worked by checking Git status.\n",
    "- Used `pip freeze` after installing every new package.\n",
    "- Treated my own code as if I were a reviewer—ran tests from scratch after pushing.\n",
    "\n",
    "### 📚 Key Learnings:\n",
    "- A full Dev → Prod → Dev workflow can be achieved even solo with discipline.\n",
    "- Dependency tracking is crucial to avoid environment issues.\n",
    "- Git and GitHub can empower even solo developers to work like a team.\n"
   ]
  },
  {
   "cell_type": "markdown",
   "id": "d7d62fda",
   "metadata": {},
   "source": [
    "## 🌟 Final Thoughts"
   ]
  },
  {
   "cell_type": "markdown",
   "id": "21e9bcac",
   "metadata": {},
   "source": [
    "\n",
    "Building and testing this workflow taught me a lot—not just technically, but also in how I approach version control, communication through documentation, and making my future self a teammate.\n",
    "\n",
    "This was more than just a project setup—it was a small but solid piece of a professional development pipeline. 💻⚙️\n"
   ]
  }
 ],
 "metadata": {},
 "nbformat": 4,
 "nbformat_minor": 5
}